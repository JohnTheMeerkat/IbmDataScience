{
    "cells": [
        {
            "metadata": {
                "collapsed": true
            },
            "cell_type": "markdown",
            "source": "# My Jupyter Notebook on IBM Watson Studio"
        },
        {
            "metadata": {},
            "cell_type": "markdown",
            "source": "**Juan Nava**  \nData science apprentice"
        },
        {
            "metadata": {},
            "cell_type": "markdown",
            "source": "*I am interested in data science because it is awesome what we can do and understand by analyzing a bunch o data.*"
        },
        {
            "metadata": {},
            "cell_type": "markdown",
            "source": "### The following code computes the greatest common divisor (GCD) of two integers"
        },
        {
            "metadata": {},
            "cell_type": "code",
            "source": "def gcd(a, b):\n    while b:\n        a, b = b, a % b\n    return a\n\ngcd(252, 105)",
            "execution_count": 4,
            "outputs": [
                {
                    "output_type": "execute_result",
                    "execution_count": 4,
                    "data": {
                        "text/plain": "21"
                    },
                    "metadata": {}
                }
            ]
        },
        {
            "metadata": {},
            "cell_type": "markdown",
            "source": "Tools for `Data Science`:\n  - Week1\n  - Week2\n  - Week3\n  - Week4\n  \n  [Link to Coursera Homepage](https://www.coursera.org/)\n  \n| Name | Age | Grade |\n| ---- |:---:| -----:|\n| John | 21  | 8.3   |\n| Ana  | 33  | 9.2   |\n| Bob  | 18  | 6.4   |\n\n~~Some strikethrough text.~~"
        }
    ],
    "metadata": {
        "kernelspec": {
            "name": "python3",
            "display_name": "Python 3.10",
            "language": "python"
        },
        "language_info": {
            "name": "python",
            "version": "3.10.6",
            "mimetype": "text/x-python",
            "codemirror_mode": {
                "name": "ipython",
                "version": 3
            },
            "pygments_lexer": "ipython3",
            "nbconvert_exporter": "python",
            "file_extension": ".py"
        }
    },
    "nbformat": 4,
    "nbformat_minor": 1
}